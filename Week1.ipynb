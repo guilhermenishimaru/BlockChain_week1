{
  "nbformat": 4,
  "nbformat_minor": 0,
  "metadata": {
    "colab": {
      "provenance": [],
      "authorship_tag": "ABX9TyNBIz0RYoqaNu6Mj8YlUfmx",
      "include_colab_link": true
    },
    "kernelspec": {
      "name": "python3",
      "display_name": "Python 3"
    },
    "language_info": {
      "name": "python"
    }
  },
  "cells": [
    {
      "cell_type": "markdown",
      "metadata": {
        "id": "view-in-github",
        "colab_type": "text"
      },
      "source": [
        "<a href=\"https://colab.research.google.com/github/guilhermenishimaru/BlockChain_week1/blob/main/Week1.ipynb\" target=\"_parent\"><img src=\"https://colab.research.google.com/assets/colab-badge.svg\" alt=\"Open In Colab\"/></a>"
      ]
    },
    {
      "cell_type": "code",
      "execution_count": null,
      "metadata": {
        "id": "hxeZbbZ1MIOH"
      },
      "outputs": [],
      "source": [
        "import hashlib\n",
        "import time\n",
        "import datetime"
      ]
    },
    {
      "cell_type": "code",
      "source": [
        "chain = []\n",
        "def get_hash(transaction_list):\n",
        "  return \"-\".join(transaction_list)\n",
        "\n",
        "  #create a hash value of any data\n",
        "  def get_hash(data):\n",
        "    return hashlib.sha256(data.encode()).hexdigest()\n",
        "\n",
        "  #adding a block\n",
        "  def add_block(chain, data):\n",
        "    chain.append(data)"
      ],
      "metadata": {
        "id": "LGBZY6mRMotf"
      },
      "execution_count": null,
      "outputs": []
    },
    {
      "cell_type": "code",
      "source": [
        "message = [\"Ted sends 2 to Phil\", \"Mary sends 1.5 to Phil\", \"Phil sends 1.5 to Joshua\", \"Nina sends 4.5 to Jan\", \"John sends 2.4 to Hira\"]"
      ],
      "metadata": {
        "id": "pQ6sMbYrNlS-"
      },
      "execution_count": null,
      "outputs": []
    },
    {
      "cell_type": "code",
      "source": [],
      "metadata": {
        "id": "LF4jm8mHOgn1"
      },
      "execution_count": null,
      "outputs": []
    }
  ]
}