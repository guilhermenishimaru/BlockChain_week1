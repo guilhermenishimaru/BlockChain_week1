{
  "nbformat": 4,
  "nbformat_minor": 0,
  "metadata": {
    "colab": {
      "provenance": [],
      "include_colab_link": true
    },
    "kernelspec": {
      "name": "python3",
      "display_name": "Python 3"
    },
    "language_info": {
      "name": "python"
    }
  },
  "cells": [
    {
      "cell_type": "markdown",
      "metadata": {
        "id": "view-in-github",
        "colab_type": "text"
      },
      "source": [
        "<a href=\"https://colab.research.google.com/github/guilhermenishimaru/BlockChain_week1/blob/main/GNishimaru_Ass1.ipynb\" target=\"_parent\"><img src=\"https://colab.research.google.com/assets/colab-badge.svg\" alt=\"Open In Colab\"/></a>"
      ]
    },
    {
      "cell_type": "code",
      "execution_count": 1,
      "metadata": {
        "id": "Gv7x7Ety0GYj"
      },
      "outputs": [],
      "source": [
        "import hashlib\n",
        "import time\n",
        "import sys"
      ]
    },
    {
      "cell_type": "code",
      "source": [
        "class Block:\n",
        "    def __init__(self, index, previous_hash, timestamp, data, proof):\n",
        "        self.index = index\n",
        "        self.previous_hash = previous_hash\n",
        "        self.timestamp = timestamp\n",
        "        self.data = data\n",
        "        self.proof = proof\n",
        "        self.hash = self.calculate_hash()\n",
        "\n",
        "    def calculate_hash(self):\n",
        "      # Hint: Combine all block attributes into a string and hash it using SHA-256\n",
        "        block_string = str(self.index) + self.previous_hash + str(self.timestamp) + self.data + str(self.proof)\n",
        "        # TODO: Implement the hash calculation for the block\n",
        "        return hashlib.sha256(block_string.encode()).hexdigest()\n",
        "\n",
        "\n",
        "\n"
      ],
      "metadata": {
        "id": "rqZtCUzvLg5B"
      },
      "execution_count": 2,
      "outputs": []
    },
    {
      "cell_type": "code",
      "source": [
        "class Blockchain:\n",
        "    def __init__(self):\n",
        "        self.chain = [self.create_genesis_block()]\n",
        "        self.difficulty = 4  # Number of leading zeros required in the hash\n",
        "\n",
        "    def create_genesis_block(self):\n",
        "        # TODO: Create and return the genesis block (the first block in the chain)\n",
        "        return Block(\n",
        "            index=0,\n",
        "            previous_hash=\"0\",\n",
        "            timestamp=time.time(),\n",
        "            data=\"Genesis\",\n",
        "            proof=1\n",
        "        )\n",
        "\n",
        "\n",
        ""
      ],
      "metadata": {
        "id": "mTP9zYWBLg8h"
      },
      "execution_count": 4,
      "outputs": []
    },
    {
      "cell_type": "code",
      "source": [
        "\n",
        "def get_latest_block(self):\n",
        "        # TODO: Return the latest block in the chain\n",
        "        def get_latest_block(self):\n",
        "          return self.chain[-1]\n",
        ""
      ],
      "metadata": {
        "id": "vtnLtYNULg-s"
      },
      "execution_count": 6,
      "outputs": []
    },
    {
      "cell_type": "code",
      "source": [
        "def add_block(self, new_block):\n",
        "        # TODO: Add a new block to the chain\n",
        "        # Hint: Set the new block's previous_hash to the hash of the latest block\n",
        "        new_block.previous_hash = self.get_latest_block().Hash\n",
        "        self.chain.append(new_block)\n",
        ""
      ],
      "metadata": {
        "id": "jh-R8e34Fo06"
      },
      "execution_count": 7,
      "outputs": []
    },
    {
      "cell_type": "code",
      "source": [
        "def proof_of_work(self, block):\n",
        "        # TODO: Implement the proof-of-work algorithm\n",
        "        # Hint: Increment the proof value until the block's hash starts with the required number of leading zeros\n",
        "        pass\n",
        "\n",
        "    def add_data(self, data):\n",
        "        # TODO: Create a new block with the provided data, perform proof of work, and add it to the chain\n",
        "        pass\n",
        "\n",
        "    def is_chain_valid(self):\n",
        "        # TODO: Validate the integrity of the blockchain\n",
        "        # Hint: Check that each block's hash is correct and that the previous_hash matches the hash of the previous block\n",
        "        pass\n",
        "\n",
        "# Example Usage\n",
        "if __name__ == \"__main__\":\n",
        "    blockchain = Blockchain()\n",
        "\n",
        "    print(\"Mining block 1...\")\n",
        "    blockchain.add_data(\"Transaction data for Block 1\")\n",
        "\n",
        "    print(\"Mining block 2...\")\n",
        "    blockchain.add_data(\"Transaction data for Block 2\")\n",
        "\n",
        "    print(\"\\nBlockchain validity:\", blockchain.is_chain_valid())\n",
        "\n",
        "    for block in blockchain.chain:\n",
        "        print(f\"Block {block.index} | Hash: {block.hash} | Previous Hash: {block.previous_hash}\")"
      ],
      "metadata": {
        "id": "aebLy29ZKWw9"
      },
      "execution_count": null,
      "outputs": []
    }
  ]
}