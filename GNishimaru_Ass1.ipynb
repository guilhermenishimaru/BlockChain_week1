{
  "nbformat": 4,
  "nbformat_minor": 0,
  "metadata": {
    "colab": {
      "provenance": [],
      "include_colab_link": true
    },
    "kernelspec": {
      "name": "python3",
      "display_name": "Python 3"
    },
    "language_info": {
      "name": "python"
    }
  },
  "cells": [
    {
      "cell_type": "markdown",
      "metadata": {
        "id": "view-in-github",
        "colab_type": "text"
      },
      "source": [
        "<a href=\"https://colab.research.google.com/github/guilhermenishimaru/BlockChain_week1/blob/main/GNishimaru_Ass1.ipynb\" target=\"_parent\"><img src=\"https://colab.research.google.com/assets/colab-badge.svg\" alt=\"Open In Colab\"/></a>"
      ]
    },
    {
      "cell_type": "code",
      "execution_count": 2,
      "metadata": {
        "id": "Gv7x7Ety0GYj"
      },
      "outputs": [],
      "source": [
        "import hashlib\n",
        "import time\n",
        "import sys\n",
        "\n"
      ]
    },
    {
      "cell_type": "code",
      "source": [
        "class Block:\n",
        "    def __init__(self, index, previous_hash, timestamp, data, proof):\n",
        "        self.index = index\n",
        "        self.previous_hash = previous_hash\n",
        "        self.timestamp = timestamp\n",
        "        self.data = data\n",
        "        self.proof = proof\n",
        "        self.hash = self.calculate_hash()\n",
        "\n",
        "    def calculate_hash(self):\n",
        "      #combining all block attributes\n",
        "        block_string = str(self.index) + self.previous_hash + str(self.timestamp) + self.data + str(self.proof)\n",
        "        #hash calculation for the block\n",
        "        return hashlib.sha256(block_string.encode()).hexdigest()\n",
        "\n",
        "\n",
        "\n"
      ],
      "metadata": {
        "id": "rqZtCUzvLg5B"
      },
      "execution_count": 3,
      "outputs": []
    },
    {
      "cell_type": "code",
      "source": [
        "class Blockchain:\n",
        "    def __init__(self):\n",
        "        self.chain = [self.create_genesis_block()]\n",
        "        self.difficulty = 4  # Number of leading zeros required in the hash\n",
        "\n",
        "    def create_genesis_block(self):\n",
        "        # Create and return the genesis block (the first block in the chain)\n",
        "        # giving value to the attributes\n",
        "        return Block(\n",
        "            index=0,\n",
        "            previous_hash=\"0\",\n",
        "            timestamp=time.time(),\n",
        "            data=\"Genesis\",\n",
        "            proof=1\n",
        "        )\n",
        "\n",
        "\n"
      ],
      "metadata": {
        "id": "mTP9zYWBLg8h"
      },
      "execution_count": 4,
      "outputs": []
    },
    {
      "cell_type": "code",
      "source": [
        "\n",
        "def get_latest_block(self):\n",
        "        #Return the latest block in the chain\n",
        "        def get_latest_block(self):\n",
        "          return self.chain[-1]\n"
      ],
      "metadata": {
        "id": "vtnLtYNULg-s"
      },
      "execution_count": 5,
      "outputs": []
    },
    {
      "cell_type": "code",
      "source": [
        "def add_block(self, new_block):\n",
        "        #Add a new block to the chain\n",
        "        #linking the block by putting attributing the value of the new block previous hash as the hash of the latest block\n",
        "        new_block.previous_hash = self.get_latest_block().Hash\n",
        "        #incorporate the new block\n",
        "        self.chain.append(new_block)\n"
      ],
      "metadata": {
        "id": "jh-R8e34Fo06"
      },
      "execution_count": 6,
      "outputs": []
    },
    {
      "cell_type": "code",
      "source": [
        "def proof_of_work(self, block):\n",
        "        #Implement the proof-of-work algorithm\n",
        "        proof = 0\n",
        "        while True:\n",
        "          block.proof = proof\n",
        "          calculated_has = block.calculate_hash()\n",
        "          if calculated_has.startwith(\"0\" * self.difficulty):\n",
        "            block.hash = calculated_hash\n",
        "            return proof\n",
        "          proof += 1\n"
      ],
      "metadata": {
        "id": "aebLy29ZKWw9"
      },
      "execution_count": 7,
      "outputs": []
    },
    {
      "cell_type": "code",
      "source": [
        "def add_data(self, data):\n",
        "        # Create a new block with the provided data, perform proof of work, and add it to the chain\n",
        "        latest_block = self.get_latest_block() #get the latest block\n",
        "        new_block = Block(                     #create a new block\n",
        "            index=latest_block.index + 1,\n",
        "            previous_hash=latest_block.hash,\n",
        "            timestamp=time.time(),\n",
        "            data=data,\n",
        "            proof=0\n",
        "        )\n",
        "        self.proof_of_work(new_block)          #do the proof of work\n",
        "        self.add_block(new_block)             #add the block after mined\n",
        "\n",
        "\n"
      ],
      "metadata": {
        "id": "7O5CDquI9L4c"
      },
      "execution_count": 17,
      "outputs": []
    },
    {
      "cell_type": "code",
      "source": [
        " def is_chain_valid(self):\n",
        "        #Validate the integrity of the blockchain\n",
        "        for i in range(len(self.chain)):\n",
        "          current_block = self.chain[i]\n",
        "\n",
        "          if current_block.hash != current_block.calculate_hash():       #verify the block hash\n",
        "            print(f\"Invalid previous_hash for block {current_block.index}\" )\n",
        "            return False\n",
        "\n",
        "          if i > 0:                                                     #verify the links\n",
        "            previous_block = self.chain[i-1]\n",
        "            if current_block.previous_hash != previous_block.hash:\n",
        "              print(f\"Invalid previous_hash for block {current_block.index}\")\n",
        "              return False\n",
        "\n",
        "        return True\n",
        "\n"
      ],
      "metadata": {
        "id": "whtoFpxBDP5c"
      },
      "execution_count": 9,
      "outputs": []
    },
    {
      "cell_type": "code",
      "source": [
        "if __name__ == \"__main__\":\n",
        "  blockchain = Blockchain()\n",
        "\n",
        "while True:\n",
        "  print (\"1. Add a new block - input transaction data\")\n",
        "  print (\"2. Display the entire blockchain\")\n",
        "  print (\"3. Run validation check\")\n",
        "  print (\"4. Exit\")\n",
        "\n",
        "  choice = input(\"Pick your choice: \")\n",
        "\n",
        "  if choice =='1':\n",
        "      data = input(\"Enter transaction data: \")\n",
        "      print(\"Processing (Mining)\")\n",
        "      blockchain.add_data(data)\n",
        "      print(\"Block added\")\n",
        "\n",
        "  elif choice == '2':\n",
        "    print(\"The Blockchain:\")\n",
        "    for block in blockchain.chain:\n",
        "                print(f\"Block {block.index}:\")\n",
        "                print(f\"  Index: {block.index}\")\n",
        "                print(f\"  Previous Hash: {block.previous_hash}\")\n",
        "                print(f\"  Timestamp: {block.timestamp}\")\n",
        "                print(f\"  Data: {block.data}\")\n",
        "                print(f\"  Proof: {block.proof}\")\n",
        "                print(f\"  Hash: {block.hash}\\n\")\n",
        "\n",
        "  elif choice == '3':\n",
        "      validity = blockchain.is_chain_valid()\n",
        "      print(f\"Blockchain validity: {validity}\")\n",
        "\n",
        "  elif choice == '4':\n",
        "      print(\"Existing the application.\")\n",
        "      break\n",
        "\n",
        "  else:\n",
        "      print(\"Invalid choice. chose 1-4\")\n"
      ],
      "metadata": {
        "id": "KBwIVq4IG49E",
        "colab": {
          "base_uri": "https://localhost:8080/",
          "height": 332
        },
        "outputId": "216ec94d-b80d-498a-e805-c7032876d991"
      },
      "execution_count": 18,
      "outputs": [
        {
          "output_type": "stream",
          "name": "stdout",
          "text": [
            "1. Add a new block - input transaction data\n",
            "2. Display the entire blockchain\n",
            "3. Run validation check\n",
            "4. Exit\n",
            "Pick your choice: 1\n",
            "Enter transaction data: Transfer\n",
            "Processing (Mining)\n"
          ]
        },
        {
          "output_type": "error",
          "ename": "AttributeError",
          "evalue": "'Blockchain' object has no attribute 'add_data'",
          "traceback": [
            "\u001b[0;31m---------------------------------------------------------------------------\u001b[0m",
            "\u001b[0;31mAttributeError\u001b[0m                            Traceback (most recent call last)",
            "\u001b[0;32m/tmp/ipython-input-18-3862436324.py\u001b[0m in \u001b[0;36m<cell line: 0>\u001b[0;34m()\u001b[0m\n\u001b[1;32m     13\u001b[0m       \u001b[0mdata\u001b[0m \u001b[0;34m=\u001b[0m \u001b[0minput\u001b[0m\u001b[0;34m(\u001b[0m\u001b[0;34m\"Enter transaction data: \"\u001b[0m\u001b[0;34m)\u001b[0m\u001b[0;34m\u001b[0m\u001b[0;34m\u001b[0m\u001b[0m\n\u001b[1;32m     14\u001b[0m       \u001b[0mprint\u001b[0m\u001b[0;34m(\u001b[0m\u001b[0;34m\"Processing (Mining)\"\u001b[0m\u001b[0;34m)\u001b[0m\u001b[0;34m\u001b[0m\u001b[0;34m\u001b[0m\u001b[0m\n\u001b[0;32m---> 15\u001b[0;31m       \u001b[0mblockchain\u001b[0m\u001b[0;34m.\u001b[0m\u001b[0madd_data\u001b[0m\u001b[0;34m(\u001b[0m\u001b[0mdata\u001b[0m\u001b[0;34m)\u001b[0m\u001b[0;34m\u001b[0m\u001b[0;34m\u001b[0m\u001b[0m\n\u001b[0m\u001b[1;32m     16\u001b[0m       \u001b[0mprint\u001b[0m\u001b[0;34m(\u001b[0m\u001b[0;34m\"Block added\"\u001b[0m\u001b[0;34m)\u001b[0m\u001b[0;34m\u001b[0m\u001b[0;34m\u001b[0m\u001b[0m\n\u001b[1;32m     17\u001b[0m \u001b[0;34m\u001b[0m\u001b[0m\n",
            "\u001b[0;31mAttributeError\u001b[0m: 'Blockchain' object has no attribute 'add_data'"
          ]
        }
      ]
    },
    {
      "cell_type": "code",
      "source": [],
      "metadata": {
        "id": "BS3BFOPkqtQA"
      },
      "execution_count": null,
      "outputs": []
    }
  ]
}